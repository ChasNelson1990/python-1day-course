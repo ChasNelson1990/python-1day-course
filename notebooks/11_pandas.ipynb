{
 "cells": [
  {
   "cell_type": "markdown",
   "metadata": {},
   "source": [
    "# Python Modules - pandas\n",
    "\n",
    "## Objectives\n",
    "\n",
    "* Know about data analysis functions provided by `pandas`\n",
    "* Understand the concept of a `pandas.DataFrame`\n",
    "* Know how to access summary statistics with `.describe()`\n",
    "* Know how to access elements from a `pandas.DataFrame` by indices\n",
    "* Know how to select elements from a `pandas.DataFrame` by comparison\n",
    "* Know how to access the `pandas` documentation\n",
    "\n",
    "**Time**: 30 minutes"
   ]
  },
  {
   "cell_type": "markdown",
   "metadata": {},
   "source": [
    "## pandas\n",
    "\n",
    "`pandas` is a large and well developed module focussed on data analytics functions and datatypes in Python. `pandas` is a large module and we will only introduce you to a couple of functions today.\n",
    "\n",
    "<div style=\"background-color:#cdefff; border-radius: 5px; padding: 10pt\"><strong>Task:</strong> Create a new code cell beneath this cell and import the <code style=\"background-color:#cdefff\">pandas</code> module. It is convential to give <code style=\"background-color:#cdefff\">pandas</code> module the alias <code style=\"background-color:#cdefff\">pd</code>.</div>\n",
    "\n",
    "<br>\n",
    "<div style=\"background-color:#cdefff; border-radius: 5px; padding: 10pt\"><strong>Task:</strong> Find the pandas Documentation on-line. Can you easily navigate the documentation to find useful functions?</div>"
   ]
  },
  {
   "cell_type": "markdown",
   "metadata": {},
   "source": [
    "### DataFrames\n",
    "\n",
    "One of the key features of `pandas` is the introduction of another new datatype: the `pandas.DataFrame`.\n",
    "\n",
    "We will use the `pandas.DataFrame` for the mini-project this afternoon (on your own data if your brought it).\n",
    "\n",
    "A `DataFrame` is a collection of `Series`. You can consider a `DataFrame` to be a table of data and a `Series` to be a column of data.\n",
    "\n",
    "`pandas` is built on top of NumPy and many NumPy array methods can be applied to `DataFrames` and `Series`.\n",
    "\n",
    "If you're used to the `R` programming language then `DataFrames` and `Series` may already be familiar to you; although Python has it's own special ways to deal with these.\n",
    "\n",
    "There are many benefits to using a `DataFrame` instead on a NumPy array and these include the ability for `pandas` to deal with missing values and the ability to use relational database operations between DataFrames.\n",
    "\n",
    "<div style=\"background-color:#cdefff; border-radius: 5px; padding: 10pt\"><strong>Task:</strong> Search the on-line pandas documentation to find the <code style=\"background-color:#cdefff\">pandas.DataFrame</code> and <code style=\"background-color:#cdefff\">pandas.Series</code> pages.</div>"
   ]
  },
  {
   "cell_type": "markdown",
   "metadata": {},
   "source": [
    "## Loading CSV Data\n",
    "\n",
    "The easiest way to load data as a DataFrame with `pandas` is to read a 'comma separated value' file. These can easily be exported from Excel or similar software if you already have data in a different format.\n",
    "\n",
    "<div style=\"background-color:#cdefff; border-radius: 5px; padding: 10pt\"><strong>Task:</strong> Run the code cell beneath this one to see how to load a <code style=\"background-color:#cdefff\">pandas.DataFrame</code> from a csv file (here from example data on the internet). Note how the DataFrame has an extra column at the start - this is an 'index'.</div>\n",
    "<br>\n",
    "Note that this dataset is about sepal and petal size in irises."
   ]
  },
  {
   "cell_type": "code",
   "execution_count": null,
   "metadata": {},
   "outputs": [],
   "source": [
    "import pandas as pd\n",
    "iris = pd.read_csv('https://raw.githubusercontent.com/mwaskom/seaborn-data/master/iris.csv')\n",
    "print(\"Our data is of type {0}\".format(type(iris)))  # print the datatype\n",
    "print(iris.head())  # print only the first five rows"
   ]
  },
  {
   "cell_type": "markdown",
   "metadata": {},
   "source": [
    "### Accessing Elements of a DataFrame - Selecting by Indexing\n",
    "\n",
    "DataFrames are accessible by indexing (as are the `numpy.ndarray`, `list` and `string` datatypes).\n",
    "\n",
    "However, unlike other datatypes we don't just use square brackets to select values by indexing. If we want to access elements of a `DataFrame` by index we must use the `.iloc` (Integer-LOCation) attribute.\n",
    "\n",
    "<div style=\"background-color:#cdefff; border-radius: 5px; padding: 10pt\"><strong>Task:</strong> Run the code cell beneath this one to access elements of <code style=\"background-color:#cdefff\">iris</code> by indexing. Add two `print()` commands that display elements accessed by indexing:\n",
    "    \n",
    "* the last row, fifth column\n",
    "* the last row and last two columns.\n",
    "</div>"
   ]
  },
  {
   "cell_type": "code",
   "execution_count": null,
   "metadata": {},
   "outputs": [],
   "source": [
    "# Access the first row, first column\n",
    "print(iris.iloc[0,0])"
   ]
  },
  {
   "cell_type": "code",
   "execution_count": null,
   "metadata": {},
   "outputs": [],
   "source": [
    "# Access the second and third rows, third column\n",
    "print(iris.iloc[1:3,2])"
   ]
  },
  {
   "cell_type": "code",
   "execution_count": null,
   "metadata": {},
   "outputs": [],
   "source": [
    "# Access the first ten rows, last three columns\n",
    "print(iris.iloc[0:10,2:5])"
   ]
  },
  {
   "cell_type": "markdown",
   "metadata": {},
   "source": [
    "### Accessing Elements of a DataFrame - Selecting by Labels\n",
    "\n",
    "DataFrames are also accessible by labels, i.e. column headers (this is unlike the `numpy.ndarray`, `list` and `string` datatypes).\n",
    "\n",
    "If we want to access elements of a `DataFrame` by labels we must use the `.loc` (label-LOCation) attribute.\n",
    "\n",
    "<div style=\"background-color:#cdefff; border-radius: 5px; padding: 10pt\"><strong>Task:</strong> Run the code cells beneath this one to access elements of <code style=\"background-color:#cdefff\">iris</code> by label. Note how, because of the index column the row labels happen to be the same as the row integer locations. Note also how slicing (<code style=\"background-color:#cdefff\">:</code>) with labels acts includes the last value (unlike slicing with indices above).</div>"
   ]
  },
  {
   "cell_type": "code",
   "execution_count": null,
   "metadata": {},
   "outputs": [],
   "source": [
    "# Access the first row, 'sepal_length' column,\n",
    "print(iris.loc[0,'sepal_length'])"
   ]
  },
  {
   "cell_type": "code",
   "execution_count": null,
   "metadata": {},
   "outputs": [],
   "source": [
    "# Access the second and third rows, 'petal_length' column\n",
    "print(iris.loc[1:2,'petal_length'])"
   ]
  },
  {
   "cell_type": "code",
   "execution_count": null,
   "metadata": {},
   "outputs": [],
   "source": [
    "# Access the first ten rows, last three columns\n",
    "print(iris.loc[0:9,'petal_width':'species'])"
   ]
  },
  {
   "cell_type": "markdown",
   "metadata": {},
   "source": [
    "<div style=\"background-color:#cdefff; border-radius: 5px; padding: 10pt\"><strong>Task:</strong> Run the cell below - why does <code style=\"background-color:#cdefff\">-1</code> not work when using <code style=\"background-color:#cdefff\">.loc</code>?</div>"
   ]
  },
  {
   "cell_type": "code",
   "execution_count": null,
   "metadata": {},
   "outputs": [],
   "source": [
    "# Access the last row, last three columns\n",
    "print(iris.loc[-1,'petal_width'])"
   ]
  },
  {
   "cell_type": "markdown",
   "metadata": {},
   "source": [
    "### Accessing Elements of a DataFrame - Selecting Whole Columns or Rows\n",
    "\n",
    "To access a whole column (or row), we can use just a colon to indicate 'everything'.\n",
    "\n",
    "<div style=\"background-color:#cdefff; border-radius: 5px; padding: 10pt\"><strong>Task:</strong> Run the cell below to see an example of printing a whole column. Note that <code style=\"background-color:#cdefff\">print()</code> truncates the data, but variable contains the whole column's data.</div>"
   ]
  },
  {
   "cell_type": "code",
   "execution_count": null,
   "metadata": {},
   "outputs": [],
   "source": [
    "# Access the whole 'species' column\n",
    "myVariable = iris.loc[:,'species']\n",
    "print(myVariable)"
   ]
  },
  {
   "cell_type": "markdown",
   "metadata": {},
   "source": [
    "### Describing a DataFrame\n",
    "\n",
    "Often, we just want a quick summary of numerical data, e.g. the mean and standard deviation. `pandas.DataFrame` objects have a method to give you a quick overview: `.describe()`.\n",
    "\n",
    "<div style=\"background-color:#cdefff; border-radius: 5px; padding: 10pt\"><strong>Task:</strong> Run the cell below to se an example of the <code style=\"background-color:#cdefff\">.describe()</code> method. Note how <code style=\"background-color:#cdefff\">.describe()</code> only considers numerical <code style=\"background-color:#cdefff\">Series</code> and ignores 'species'.</div>"
   ]
  },
  {
   "cell_type": "code",
   "execution_count": null,
   "metadata": {},
   "outputs": [],
   "source": [
    "print(iris.describe())"
   ]
  },
  {
   "cell_type": "markdown",
   "metadata": {},
   "source": [
    "### Accessing Elements of a DataFrame - Selecting By Comparison\n",
    "\n",
    "But what if we only want to see summary statistics for one species in our dataset? We could manually look through the `DataFrame` and pick the indices for each 'setosa' iris. In this case that will be indiced `0-49`, but in many cases the ordering of our data may be random.\n",
    "\n",
    "Luckily, DataFrames can be accessed not just be indices and labels but also by comparisons. Essentially, we create a Boolean 'mask' - a `True`/`False` value at every element, which tells the DataFrame what data to use.\n",
    "\n",
    "<div style=\"background-color:#cdefff; border-radius: 5px; padding: 10pt\"><strong>Task:</strong> \n",
    "Read the cell below. This cells aims to create a mask for only setosa iris data and print out summary statistics for that species. Replace all the gaps (<code style=\"background-color:#cdefff\">____</code>) in the cell so that it runs without errors and produces the right output values.</div>"
   ]
  },
  {
   "cell_type": "code",
   "execution_count": null,
   "metadata": {},
   "outputs": [],
   "source": [
    "# Create a mask from the 'species' column\n",
    "mask = iris.____[:,____]=='setosa'\n",
    "\n",
    "# Print the masked DataFrame\n",
    "print(iris.loc[____])\n",
    "\n",
    "# Print summary statistics\n",
    "print(iris.____[mask].____())"
   ]
  },
  {
   "cell_type": "markdown",
   "metadata": {},
   "source": [
    "## Key Points\n",
    "\n",
    "* pandas increases the functionality of Python for data analaysis\n",
    "* Whilst pandas documentation can look overwhelming, it can easily be interpreted\n",
    "* `pandas.DataFrame` objects hold data in a table-like way and can be loaded from your existing data\n",
    "* There are lots of ways to access data from your `pandas.DataFrame`, not all will be appropriate for your scenario"
   ]
  }
 ],
 "metadata": {
  "kernelspec": {
   "display_name": "Python 3",
   "language": "python",
   "name": "python3"
  },
  "language_info": {
   "codemirror_mode": {
    "name": "ipython",
    "version": 3
   },
   "file_extension": ".py",
   "mimetype": "text/x-python",
   "name": "python",
   "nbconvert_exporter": "python",
   "pygments_lexer": "ipython3",
   "version": "3.7.1"
  }
 },
 "nbformat": 4,
 "nbformat_minor": 2
}
