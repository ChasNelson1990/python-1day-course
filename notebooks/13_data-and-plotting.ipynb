{
 "cells": [
  {
   "cell_type": "markdown",
   "metadata": {},
   "source": [
    "# Programming in Python - Mini-project\n",
    "\n",
    "## Objectives\n",
    "\n",
    "* To use all that you've learnt so far to load, analyse and plot your own data (or some example data)\n",
    "* Use functions from Python, NumPy, SciPy, pandas, Seaborn and matplotlib\n",
    "* Know where to look for help and support\n",
    "\n",
    "**Time**: 80 minutes"
   ]
  },
  {
   "cell_type": "code",
   "execution_count": null,
   "metadata": {},
   "outputs": [],
   "source": []
  }
 ],
 "metadata": {
  "kernelspec": {
   "display_name": "Python 3",
   "language": "python",
   "name": "python3"
  },
  "language_info": {
   "codemirror_mode": {
    "name": "ipython",
    "version": 3
   },
   "file_extension": ".py",
   "mimetype": "text/x-python",
   "name": "python",
   "nbconvert_exporter": "python",
   "pygments_lexer": "ipython3",
   "version": "3.7.4"
  }
 },
 "nbformat": 4,
 "nbformat_minor": 4
}
