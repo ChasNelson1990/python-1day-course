{
 "cells": [
  {
   "cell_type": "markdown",
   "metadata": {},
   "source": [
    "# `if` Statements in Python\n",
    "\n",
    "## Objectives\n",
    "\n",
    "* Understand that conditionals are used to make programs choose between multiple options\n",
    "* Know what a Boolean expression is\n",
    "* Be able to follow a simple piece of code with `if`, `elif` and `else` statements\n",
    "* Complete a simple `for` loop that contains a simple `if` statement\n",
    "\n",
    "**Time**: 20 minutes"
   ]
  },
  {
   "cell_type": "markdown",
   "metadata": {},
   "source": [
    "## Conditionals and `if` statements\n",
    "\n",
    "In programming a 'conditional' gives code the ability to make a choice - usually a yes/no choice.\n",
    "\n",
    "The most common conditional is the `if` statement, which takes the following form:\n",
    "\n",
    "```python\n",
    "if <BooleanExpression>:\n",
    "    print('Do something in this special situation.')\n",
    "```\n",
    "\n",
    "Like a `for` loop, there are two special features of `if` statements:\n",
    "\n",
    "1. `if` statements must end in a colon, this signals the start of the code you want to run in that situation.\n",
    "2. The body of an `if` statement (called a branch) must be indented,. Thankfully, Jupyter Notebooks should autoindent lines following a colon for you.\n",
    "\n",
    "### Boolean expressions\n",
    "\n",
    "But what about our `<BooleanExpression>` (above).\n",
    "\n",
    "A Boolean expression is any expression that can be evaluated as true or false, e.g.\n",
    "\n",
    "* $1=1$ is true\n",
    "* $1=2$ is false\n",
    "* $1<2$ is true\n",
    "* $4\\ge5$ is false\n",
    "\n",
    "<div style=\"background-color:#cdefff; border-radius: 5px; padding: 10pt\"><strong>Task:</strong> Run the following cells to see different examples of boolean expressions.</div>\n"
   ]
  },
  {
   "cell_type": "code",
   "execution_count": null,
   "metadata": {},
   "outputs": [],
   "source": [
    "45 == 45"
   ]
  },
  {
   "cell_type": "code",
   "execution_count": null,
   "metadata": {},
   "outputs": [],
   "source": [
    "7 >= 6 or 3 > 1"
   ]
  },
  {
   "cell_type": "code",
   "execution_count": null,
   "metadata": {},
   "outputs": [],
   "source": [
    "True and False"
   ]
  },
  {
   "cell_type": "code",
   "execution_count": null,
   "metadata": {},
   "outputs": [],
   "source": [
    "True and \"same string\" == \"same string\""
   ]
  },
  {
   "cell_type": "code",
   "execution_count": null,
   "metadata": {},
   "outputs": [],
   "source": [
    "\"same string\" == \"different string\""
   ]
  },
  {
   "cell_type": "code",
   "execution_count": null,
   "metadata": {},
   "outputs": [],
   "source": [
    "123 != \"123\""
   ]
  },
  {
   "cell_type": "markdown",
   "metadata": {},
   "source": [
    "Note that in Python, if we want to see if two numbers are equal we use a double equals: `1==1`.\n",
    "\n",
    "Like `None` (see Built-in Functions, Help and Documentation, above), `True` and `False` are special Python values.\n",
    "\n",
    "<div style=\"background-color:#cdefff; border-radius: 5px; padding: 10pt\"><strong>Task:</strong> Run the following cell to see a simple example of a Boolean expression. In the same cell, write an <code style=\"background-color:#cdefff\">if</code> statement that only prints a message if <code style=\"background-color:#cdefff\">myVariable</code> equals one.</div>"
   ]
  },
  {
   "cell_type": "code",
   "execution_count": null,
   "metadata": {},
   "outputs": [],
   "source": [
    "myVariable = 1;  # here we assign a value of 1 to our variable\n",
    "\n",
    "print('An example of a False Boolean expression:')\n",
    "print(myVariable==10)  # our variable does not equal 10, i.e. this statement is False\n",
    "\n",
    "print('An example of a True Boolean expression:')\n",
    "print(myVariable==1)  # our variable does equal 1, i.e. this statement is True"
   ]
  },
  {
   "cell_type": "markdown",
   "metadata": {},
   "source": [
    "## `if`, `elif` and `else`\n",
    "\n",
    "So an `if` statement allows us to run some code in only a specific situation (a branch), but what if we have more than one situation (multiple branches)? Or want to have some default code that's run in all situations where the `if` branch is not taken.\n",
    "\n",
    "Python has two additional statements for these cases:\n",
    "\n",
    "* `elif`, short for 'else if', allows us to use multiple conditions and create several branches of code.\n",
    "* `else`, allows us to set an alternative code that it run only if no branches are taken.\n",
    "\n",
    "Note that all conditionals are run in order.\n",
    "\n",
    "<div style=\"background-color:#cdefff; border-radius: 5px; padding: 10pt\"><strong>Task:</strong> Read the following cell. What do you expect the output to be? Run the cell to confirm this. Now change the value of <code style=\"background-color:#cdefff\">myVariable</code> so that a different branch is taken. Re-run the cell and repeat for the third branch.</div>"
   ]
  },
  {
   "cell_type": "code",
   "execution_count": null,
   "metadata": {},
   "outputs": [],
   "source": [
    "myVariable = 1\n",
    "\n",
    "if myVariable==1:\n",
    "    print('myVariable is equal to one')\n",
    "elif myVariable==2:\n",
    "    print('myVariable is equal to two')\n",
    "else:\n",
    "    print('myVariable equals anything else')"
   ]
  },
  {
   "cell_type": "markdown",
   "metadata": {},
   "source": [
    "## Combining conditionals and loops\n",
    "\n",
    "More often than not an `if` conditional is most useful inside a `for` loop - the `for` loop can run through a series of values and the `if` conditional can choose what to do with that value.\n",
    "\n",
    "<div style=\"background-color:#cdefff; border-radius: 5px; padding: 10pt\"><strong>Task:</strong> Read the cell below. This for loop aims to go through a list of values and, if that number is greater than 10, adds that number to a total, else prints a warning to the user that the value has been ignored. Replace all the gaps (<code style=\"background-color:#cdefff\">___</code>) in the cell so that it runs without errors and produces the right output values.</div>"
   ]
  },
  {
   "cell_type": "code",
   "execution_count": null,
   "metadata": {},
   "outputs": [],
   "source": [
    "myData = [12,9,13,19,2,16,7,10,4,1,6,18,11]\n",
    "myTotal = ___\n",
    "\n",
    "for number in ___:\n",
    "    if number ___ 10:\n",
    "        ___ = myTotal + number\n",
    "    else:\n",
    "        print('Warning: This program did not use the value of {0} as it was too low.'.___(number))\n",
    "\n",
    "print('The total value is {0}'.format(___))"
   ]
  },
  {
   "cell_type": "markdown",
   "metadata": {},
   "source": [
    "## Key Points\n",
    "\n",
    "* Conditionals enable your Python codes to choose between options\n",
    "* An `if` statement uses a Boolean conditional to decide whether or not to execute some code (a branch)\n",
    "* `if` statements must have a colon and everything after the colon should be indented\n",
    "* There can be many lines of code inside an `if` statement (a branch).\n",
    "* `elif` statements can be used to include additional branches of code\n",
    "* `else` statements can be used to run a branch of code when no `if` or `elif` statements are run\n",
    "* Conditionals are tested in order."
   ]
  }
 ],
 "metadata": {
  "kernelspec": {
   "display_name": "Python 3",
   "language": "python",
   "name": "python3"
  },
  "language_info": {
   "codemirror_mode": {
    "name": "ipython",
    "version": 3
   },
   "file_extension": ".py",
   "mimetype": "text/x-python",
   "name": "python",
   "nbconvert_exporter": "python",
   "pygments_lexer": "ipython3",
   "version": "3.7.1"
  }
 },
 "nbformat": 4,
 "nbformat_minor": 2
}
