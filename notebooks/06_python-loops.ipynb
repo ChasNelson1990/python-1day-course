{
 "cells": [
  {
   "cell_type": "markdown",
   "metadata": {},
   "source": [
    "# `for` Loops in Python\n",
    "\n",
    "## Objectives\n",
    "\n",
    "* Understand that loops are used to make programs do many, often repetitive, tasks\n",
    "* Be able to follow a simple `for` loop through each iteration\n",
    "* Understand the importance of indentation in Python\n",
    "* Complete a simple `for` loop\n",
    "\n",
    "**Time**: 30 minutes"
   ]
  },
  {
   "cell_type": "markdown",
   "metadata": {},
   "source": [
    "## Loops\n",
    "\n",
    "As with lists, we usually want to process many samples or measurements. Writing a line of code to process each measurement would make our codes complex and cumbersome. Like with lists, with enough variables to process, we might as well do it all by hand.\n",
    "\n",
    "There are two key ways to do repetitive tasks in Python - the `for` loop and the `while` loop. They work in slightly different ways but we'll only cover `for` loops today.\n",
    "\n",
    "## `for` loops\n",
    "\n",
    "In Python, a `for` loop takes a group of values and does an operation on each value in turn.\n",
    "\n",
    "<div style=\"background-color:#cdefff; border-radius: 5px; padding: 10pt\"><strong>Task:</strong> Run the next two cells and compare their outputs. Imagine you had hundreds of values to process, which would you rather do?</div>"
   ]
  },
  {
   "cell_type": "code",
   "execution_count": null,
   "metadata": {},
   "outputs": [],
   "source": [
    "print(1)\n",
    "print(1*1)\n",
    "print(2)\n",
    "print(2*2)\n",
    "print(5)\n",
    "print(5*5)\n",
    "print(9)\n",
    "print(9*9)"
   ]
  },
  {
   "cell_type": "code",
   "execution_count": null,
   "metadata": {},
   "outputs": [],
   "source": [
    "for number in [1,2,5,9]:\n",
    "    print(number)\n",
    "    print(number*number)"
   ]
  },
  {
   "cell_type": "markdown",
   "metadata": {},
   "source": [
    "Let's break this `for` loop down:\n",
    "\n",
    "* The `for` statement tells Python we want to run a loop.\n",
    "* `number` is a variable that exists only within the loop, we call it the *iterator*. An iterator always represents \"the thing we want to process now\".\n",
    "* `in [1,2,5,9]` tells the `for` loop that `number` should take (in turn) the values *in the list* `[1,2,5,9]`.\n",
    "* Finally, `print(number)`, or whatever code we choose to do inside your loop, is the code we want to repeat.\n",
    "\n",
    "But there are two other extremely important features of the cell above:\n",
    "\n",
    "* The `for` statement must end in a colon, this signals the start of the code you want to repeat\n",
    "* The body of the statement must be indented, this is usually four spaces but can be anything consistent, e.g. one space, one tab, etc.. Thankfully, Jupyter Notebooks should autoindent lines following a colon for you.\n",
    "\n",
    "<div style=\"background-color:#cdefff; border-radius: 5px; padding: 10pt\"><strong>Task:</strong> Read the next cell carefully. What do you think the value of <code style=\"background-color:#cdefff\">myVariable</code> will be during each step of the loop? Add a call to <code style=\"background-color:#cdefff\">print()</code> in the cell and check that you're right.</div>"
   ]
  },
  {
   "cell_type": "code",
   "execution_count": null,
   "metadata": {},
   "outputs": [],
   "source": [
    "myVariable = 0\n",
    "\n",
    "for number in [1,2,5,9]:\n",
    "    myVariable = myVariable + number"
   ]
  },
  {
   "cell_type": "markdown",
   "metadata": {},
   "source": [
    "## Errors are helpful (continued)\n",
    "\n",
    "### IndentationError #1\n",
    "\n",
    "<div style=\"background-color:#cdefff; border-radius: 5px; padding: 10pt\"><strong>Task:</strong> Run the cell below. What does this <code style=\"background-color:#cdefff\">IndentationError</code> mean? Create a new Markdown cell and describe, in words you understand, what has gone wrong here. Modify the cell to fix the error and re-run it.</div>"
   ]
  },
  {
   "cell_type": "code",
   "execution_count": null,
   "metadata": {},
   "outputs": [],
   "source": [
    "for number in [1,2,3]:\n",
    "print(number)"
   ]
  },
  {
   "cell_type": "markdown",
   "metadata": {},
   "source": [
    "### IndentationError #2\n",
    "\n",
    "<div style=\"background-color:#cdefff; border-radius: 5px; padding: 10pt\"><strong>Task:</strong> Run the cell below. What does this <code style=\"background-color:#cdefff\">IndentationError</code> mean? Create a new Markdown cell and describe, in words you understand, what has gone wrong here. Modify the cell to fix the error and re-run it.</div>"
   ]
  },
  {
   "cell_type": "code",
   "execution_count": null,
   "metadata": {},
   "outputs": [],
   "source": [
    "firstName = 'Chas'\n",
    "    lastName = 'Nelson'"
   ]
  },
  {
   "cell_type": "markdown",
   "metadata": {},
   "source": [
    "### IndentationError #3\n",
    "\n",
    "<div style=\"background-color:#cdefff; border-radius: 5px; padding: 10pt\"><strong>Task:</strong> Run the cell below. What does this <code style=\"background-color:#cdefff\">IndentationError</code> mean? Create a new Markdown cell and describe, in words you understand, what has gone wrong here. Modify the cell to fix the error and re-run it.</div>"
   ]
  },
  {
   "cell_type": "code",
   "execution_count": null,
   "metadata": {},
   "outputs": [],
   "source": [
    "for number in [1,2,3]:\n",
    "    print(number)\n",
    "  print(number*number)"
   ]
  },
  {
   "cell_type": "markdown",
   "metadata": {},
   "source": [
    "## `for` loops (continued)\n",
    "\n",
    "### `range()`\n",
    "\n",
    "Now we've seen how a `for` loop is constructed using a list of numbers, what if we want to run some code over a range of regularly spaced values?\n",
    "\n",
    "Python has a built-in function to help with this: `range()`.\n",
    "\n",
    "<div style=\"background-color:#cdefff; border-radius: 5px; padding: 10pt\"><strong>Task:</strong> Run the cell below. to see the documentation for the <code style=\"background-color:#cdefff\">range()</code> function.</div>"
   ]
  },
  {
   "cell_type": "code",
   "execution_count": 8,
   "metadata": {},
   "outputs": [
    {
     "data": {
      "text/plain": [
       "\u001b[0;31mInit signature:\u001b[0m \u001b[0mrange\u001b[0m\u001b[0;34m(\u001b[0m\u001b[0mself\u001b[0m\u001b[0;34m,\u001b[0m \u001b[0;34m/\u001b[0m\u001b[0;34m,\u001b[0m \u001b[0;34m*\u001b[0m\u001b[0margs\u001b[0m\u001b[0;34m,\u001b[0m \u001b[0;34m**\u001b[0m\u001b[0mkwargs\u001b[0m\u001b[0;34m)\u001b[0m\u001b[0;34m\u001b[0m\u001b[0;34m\u001b[0m\u001b[0m\n",
       "\u001b[0;31mDocstring:\u001b[0m     \n",
       "range(stop) -> range object\n",
       "range(start, stop[, step]) -> range object\n",
       "\n",
       "Return an object that produces a sequence of integers from start (inclusive)\n",
       "to stop (exclusive) by step.  range(i, j) produces i, i+1, i+2, ..., j-1.\n",
       "start defaults to 0, and stop is omitted!  range(4) produces 0, 1, 2, 3.\n",
       "These are exactly the valid indices for a list of 4 elements.\n",
       "When step is given, it specifies the increment (or decrement).\n",
       "\u001b[0;31mType:\u001b[0m           type\n",
       "\u001b[0;31mSubclasses:\u001b[0m     \n"
      ]
     },
     "metadata": {},
     "output_type": "display_data"
    }
   ],
   "source": [
    "range?"
   ]
  },
  {
   "cell_type": "markdown",
   "metadata": {},
   "source": [
    "<div style=\"background-color:#cdefff; border-radius: 5px; padding: 10pt\"><strong>Task:</strong> Read the cell below. This foor loop aims to calculate the square and cube of every odd number between 1 and 11. Replace all the gaps (<code style=\"background-color:#cdefff\">___</code>) in the cell so that it runs without errors and produces the right output values.</div>"
   ]
  },
  {
   "cell_type": "code",
   "execution_count": null,
   "metadata": {},
   "outputs": [],
   "source": [
    "for number in range(___,___,___):\n",
    "    square = ___ * ___\n",
    "    cube = ___ * ___\n",
    "    print('{0} squared is {1} and cubed is {2}.'.format())"
   ]
  },
  {
   "cell_type": "markdown",
   "metadata": {},
   "source": [
    "## Key Points\n",
    "\n",
    "* Loops enable your Python codes to repeat tasks\n",
    "* A `for` loop runs code on an iterator, which takes each value in a list (one-by-one)\n",
    "* `for` loops must have a colon and everything after the colon should be indented\n",
    "* There can be many lines of code inside a `for` loop.\n",
    "* Errors are helpful! (yet again)\n",
    "* The built-in Python function `range()` can be used to create a `for` loop that iterates over a sequence of numbers"
   ]
  }
 ],
 "metadata": {
  "kernelspec": {
   "display_name": "Python 3",
   "language": "python",
   "name": "python3"
  },
  "language_info": {
   "codemirror_mode": {
    "name": "ipython",
    "version": 3
   },
   "file_extension": ".py",
   "mimetype": "text/x-python",
   "name": "python",
   "nbconvert_exporter": "python",
   "pygments_lexer": "ipython3",
   "version": "3.7.2"
  }
 },
 "nbformat": 4,
 "nbformat_minor": 2
}
