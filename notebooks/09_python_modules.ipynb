{
 "cells": [
  {
   "cell_type": "markdown",
   "metadata": {},
   "source": [
    "# Using Python modules\n",
    "\n",
    "## Objectives\n",
    "\n",
    "* Understand what is a Python module\n",
    "* Learn how to import functions from extended collection of Python libraries\n",
    "* Know how and when to import using alias and what is a namespace\n",
    "\n",
    "**Time**: 15 minutes"
   ]
  },
  {
   "cell_type": "markdown",
   "metadata": {},
   "source": [
    "## Python modules: Doing more.\n",
    "\n",
    "At some point, very soon, you will realise that not everything you can think of can be done by using built-in functions. You have learnt how to write your own functions but common problems already have common solutions written by other, more experience programmers. \n",
    "\n",
    "Python itself provides an extensive library of [modules](https://docs.python.org/3/library/index.html) which are collections of functions (and other objects, like datatypes) allowing us to do some more specific tasks. \n",
    "\n",
    "Let's follow a simple example of using a `math` module. First, try calcualte factorial of 6:\n",
    "<br>\n",
    "$6! = 1 \\times 2 \\times 3 \\times 4 \\times 5 \\times 6$\n",
    "\n",
    "<div style=\"background-color:#cdefff; border-radius: 5px; padding: 10pt\"><strong>Task:</strong> Edit and run following cell to calculate factorial of 6. Then in the next cell try to us a built-in function for factorial. Isn't there one?</div>"
   ]
  },
  {
   "cell_type": "code",
   "execution_count": null,
   "metadata": {
    "scrolled": true
   },
   "outputs": [],
   "source": [
    "factorial_of_6 = \n",
    "print(\"Factorial of 6 is {0}\".format(factorial_of_6))"
   ]
  },
  {
   "cell_type": "code",
   "execution_count": null,
   "metadata": {},
   "outputs": [],
   "source": [
    "factorial_using_builtin = factorial(6) # Let's assume there is a built-in factorial function. There should be one, right?"
   ]
  },
  {
   "cell_type": "markdown",
   "metadata": {},
   "source": [
    "As you can see, Python do not know of any built-in `factorial` function. It is because it is inside a build-in _library_ which covers all simple mathematical operations. Its name is `math` and we will now _load_ it to our notebook.\n",
    "\n",
    "To load a module we use command `import <module name>`. Once the module is imported, just like defined functions and variables it will be avaliable throughout. \n",
    "\n",
    "To call a function from the imported module we use syntax `<module name>.<function name>`. For instance `math.factorial()`\n",
    "\n",
    "\n",
    "<div style=\"background-color:#cdefff; border-radius: 5px; padding: 10pt\"><strong>Task:</strong> Run the following cell to import <code style=\"background-color:#cdefff\">math</code> module and calculate factorial of 6. Edit and execute the code in the next cell to see more examples of <code style=\"background-color:#cdefff\">math</code> module.</div>\n",
    "\n"
   ]
  },
  {
   "cell_type": "code",
   "execution_count": null,
   "metadata": {
    "scrolled": true
   },
   "outputs": [],
   "source": [
    "import math\n",
    "factorial_using_builtin = math.factorial(6)\n",
    "print(\"Factorial of 6 is {0}\".format(factorial_using_builtin))"
   ]
  },
  {
   "cell_type": "code",
   "execution_count": null,
   "metadata": {},
   "outputs": [],
   "source": [
    "pi_val = math.pi\n",
    "print(\"Value of Pi with 6 digits accuracy is {0:.6f}\".format(pi_val))\n",
    "\n",
    "sin_of_pi = ____.____(____.____)\n",
    "print(\"Sinus of Pi (180 degrees) with 2 digits accuracy is {____:.____f}\".format(____))"
   ]
  },
  {
   "cell_type": "markdown",
   "metadata": {},
   "source": [
    "## Different ways to import\n",
    "### Importing functions directly\n",
    "\n",
    "In some cases you will need to use some specific functions multiple times. So far when you imported the module, you had to use its name to access functions within. To make it simpler we can import one or more specific functions directly into our `namespace`. To do that you can write `from <module name> import <function name>`\n",
    "\n",
    "For instance:\n",
    "`from math import log`\n",
    "\n",
    "<div style=\"background-color:#cdefff; border-radius: 5px; padding: 10pt\"><strong>Task:</strong> Run the following cell. Is the logarithm function avaliable in pure python? Run the next cell to load logarithm function from <code style=\"background-color:#cdefff\">math</code> module and re-run former cell</div>\n"
   ]
  },
  {
   "cell_type": "code",
   "execution_count": null,
   "metadata": {},
   "outputs": [],
   "source": [
    "#Using logarithm function math.log()\n",
    "log1010 = math.log(10,10)\n",
    "print(\"Logarithm of 10 with base 10 is {0} \".format(log1010))\n",
    "\n",
    "#Using logarithm function log()\n",
    "log8_2 = log(8,2)\n",
    "print(\"Logarithm of 8 with base 2 is {0} \".format(log8_2))\n",
    "print(\"Well done!\")\n"
   ]
  },
  {
   "cell_type": "code",
   "execution_count": null,
   "metadata": {},
   "outputs": [],
   "source": [
    "#loading specific function\n",
    "from math import log"
   ]
  },
  {
   "cell_type": "markdown",
   "metadata": {},
   "source": [
    "## Different ways to import\n",
    "### Importing with an alias\n",
    "\n",
    "Very often when we import libraries we can shorten the library name to anything we like to make coding more relaxing. For instance, a module `datetime` [link](https://docs.python.org/3/library/datetime.html) provide us with essential functionality but its name is unnecessarily long. You can use syntax `import <module name> as <module alias>` to make your own short name for imported module.\n",
    "\n",
    "\n",
    "<div style=\"background-color:#cdefff; border-radius: 5px; padding: 10pt\"><strong>Task:</strong> Run the following cell to see an example of importing <code style=\"background-color:#cdefff\">datetime</code> module using an alias. You will notice that module <code style=\"background-color:#cdefff\">datetime</code> contains a submodule of the same name - just a necessary complication.</div>"
   ]
  },
  {
   "cell_type": "code",
   "execution_count": null,
   "metadata": {},
   "outputs": [],
   "source": [
    "import datetime as dt\n",
    "current_time = dt.datetime.now()\n",
    "print(\"Current time is {0}\".format(current_time))"
   ]
  },
  {
   "cell_type": "markdown",
   "metadata": {},
   "source": [
    "<div style=\"background-color:#cdefff; border-radius: 5px; padding: 10pt\"><strong>Task:</strong> Run the following cell to import another usful library <code style=\"background-color:#cdefff\">os</code>. In this case the module name is very short, but for clarity you can give it a more descriprive alias:</div>"
   ]
  },
  {
   "cell_type": "code",
   "execution_count": null,
   "metadata": {},
   "outputs": [],
   "source": [
    "import os as system_library\n",
    "work_dir = system_library.getcwd()\n",
    "print(\"My working directory is {0}\".format(work_dir))"
   ]
  },
  {
   "cell_type": "markdown",
   "metadata": {},
   "source": [
    "## Key Points\n",
    "\n",
    "* its better to use libraries than to write your own functions\n",
    "* you can browse documentation online to search for library functions\n",
    "* you can import specific functions or a whole module using an alias "
   ]
  }
 ],
 "metadata": {
  "kernelspec": {
   "display_name": "Python 3",
   "language": "python",
   "name": "python3"
  },
  "language_info": {
   "codemirror_mode": {
    "name": "ipython",
    "version": 3
   },
   "file_extension": ".py",
   "mimetype": "text/x-python",
   "name": "python",
   "nbconvert_exporter": "python",
   "pygments_lexer": "ipython3",
   "version": "3.7.1"
  }
 },
 "nbformat": 4,
 "nbformat_minor": 2
}
