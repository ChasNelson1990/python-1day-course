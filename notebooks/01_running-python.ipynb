{
 "cells": [
  {
   "cell_type": "markdown",
   "metadata": {},
   "source": [
    "# The Basics of Programming with Python\n",
    "\n",
    "These first nine notebooks will take you from zero to hero: teaching you the basics of python syntax and the key features of programming in Python.\n",
    "\n",
    "The remaining three notebooks will introduce key modules that you're likely to use in the future. We will talk through these during the course but you will do the exercises after the course.\n",
    "\n",
    "We will use the notebooks to work through a series of descriptive text, examples and exercises.\n",
    "\n",
    "Tasks (in light blue) will be completed during the course with Exercises (in light orange) for completing outside the course and building up your skills.\n",
    "\n",
    "Should you find you need further explaination or to revise some topics a list of resources can be found at https://wiki.python.org/moin/BeginnersGuide/Programmers."
   ]
  },
  {
   "cell_type": "markdown",
   "metadata": {},
   "source": [
    "# Running Python in Jupyter Lab\n",
    "\n",
    "## Objectives\n",
    "\n",
    "* Understand why we're learning Python and using Jupyter Lab\n",
    "* Know that Python code can be stored as plain files or notebooks\n",
    "* Create a Markdown cell in a notebook\n",
    "* Hello World! - run a Python cell in a notebook\n",
    "\n",
    "**Time**: 15 minutes"
   ]
  },
  {
   "cell_type": "markdown",
   "metadata": {},
   "source": [
    "## Why Python?\n",
    "\n",
    "First, why are we using Python? You may have heard of other programming languages like R, Java or C++ and each programming language has its benefits. Python has several benefits that make it an ideal starting language for most scientists:\n",
    "\n",
    "* Simple syntax that's human readable\n",
    "* Very wide used in the scientific community\n",
    "* large community support and good documentation\n",
    "* Packages provide almost infinite extensiblility - and there are many scientifically-focussed packages\n",
    "* Obvious 'pythonic' ways of doing things"
   ]
  },
  {
   "cell_type": "markdown",
   "metadata": {},
   "source": [
    "## Python Files\n",
    "\n",
    "Generally, Python files are plain text files that end with the `.py` extension. This let's the operating system know that the file is a Python program and to interpret the text as Python commands. Such files can be edited with a text editor and run from the shell."
   ]
  },
  {
   "cell_type": "markdown",
   "metadata": {},
   "source": [
    "## Jupyter Lab\n",
    "\n",
    "However, we will focus on using Jupyter Lab notebooks (`.ipynb` extension). Notebooks are a more user-friendly way or working with Python and enable you to combine text notes (like this 'cell'), your Python codes and the results of codes - all in one place.\n",
    "\n",
    "In general, Jupyter Lab will probably satisfy most of your programming needs in the near future."
   ]
  },
  {
   "cell_type": "markdown",
   "metadata": {},
   "source": [
    "## Cells\n",
    "\n",
    "In Jupyter each block is called a cell. The currently selected cell is highlighted by a blue bar to the left and, if the cell is being edited, a blue frame around the cell.\n",
    "\n",
    "You can move between cells using the arrow keys (up and down); however, you must exit edit mode before doing so. This can be done by hitting the <kbd>Esc</kbd> key."
   ]
  },
  {
   "cell_type": "markdown",
   "metadata": {},
   "source": [
    "### Markdown Cells\n",
    "\n",
    "Markdown cells, like this cell, are a form of formatted text. If you double click this cell (or press <kbd>Enter</kbd> when the cell is highlighted) it will change from pretty, formatted text to Markdown text.\n",
    "\n",
    "<div style=\"background-color:#abd9e9; border-radius: 5px; padding: 10pt\"><strong>Task:</strong> Double click this cell to see:</div>\n",
    "\n",
    "1. How numbered lists work\n",
    "2. How bulleted lists work:\n",
    "  * How **bold** text can be created\n",
    "  * How to use *italics*\n",
    "  * And how to show `code`\n",
    "  \n",
    "Throughout this course we recommend you add your own Markdown cells to make additional notes that you may find useful in the future."
   ]
  },
  {
   "cell_type": "markdown",
   "metadata": {},
   "source": [
    "To add a new cell, highlight an existing cell, and hit the <kbd>A</kbd> key to create a cell above or <kbd>B</kbd> to create one below. This cell is, by default, a code cell. Hit <kbd>M</kbd> to change the cell to Markdown.\n",
    "\n",
    "<div style=\"background-color:#abd9e9; border-radius: 5px; padding: 10pt\"><strong>Task:</strong> Let's create a new Markdown cell below this one where we can describe how to do this with the mouse and user interface.</div>"
   ]
  },
  {
   "cell_type": "markdown",
   "metadata": {},
   "source": [
    "<div style=\"background-color:#fdae61; border-radius: 5px; padding: 10pt\"><strong>Exercise:</strong> Create a new Markdown cell below this one. Add your own <em>nested</em> list.</div>"
   ]
  },
  {
   "cell_type": "markdown",
   "metadata": {},
   "source": [
    "### Python Cells\n",
    "\n",
    "Code cells, like the one below, can be filled with a series of Python commands. When the cell is run (<kbd>Ctrl+Enter</kbd> or <kbd>Shift+Enter</kbd>) the output is printed below.\n",
    "\n",
    "Note that a code cell has a pair of square brackets to the left of the cell. If the square brackets are empty (`[ ]`) then the cell has not been run; if the square brackets contain an asterisk (`[*]`) then the cell is running; and if the square brackets contain a number (e.g. `[5]`) then the cell has been run and was the, for example, fifth cell to be run. The running order of cells is important as Jupyter can only know about data and functions in cells that have already been run.\n",
    "\n",
    "<div style=\"background-color:#abd9e9; border-radius: 5px; padding: 10pt\"><strong>Task:</strong> Let's run our first Python script - Hello World! (This is a conventional first code for any programming language.)\n",
    "</div>"
   ]
  },
  {
   "cell_type": "code",
   "execution_count": null,
   "metadata": {},
   "outputs": [],
   "source": [
    "print('Hello World!')"
   ]
  },
  {
   "cell_type": "markdown",
   "metadata": {},
   "source": [
    "<div style=\"background-color:#abd9e9; border-radius: 5px; padding: 10pt\"><strong>Task:</strong> The cell below contains some Python code; however, it has accidentally been converted to a Markdown cell (see above for how to do this). Can you convert the cell back to a code cell using the Jupyter Lab interface? How might you do this with a keyboard shortcut?</div>"
   ]
  },
  {
   "cell_type": "markdown",
   "metadata": {},
   "source": [
    "### Closing Notebooks\n",
    "\n",
    "Now we've completed this notebook we need to close it a shutdown the 'kernel', which runs and stores the Python data.\n",
    "\n",
    "<div style=\"background-color:#abd9e9; border-radius: 5px; padding: 10pt\"><strong>Task:</strong> Close this notebook and shutdown the kernel.</div>"
   ]
  },
  {
   "cell_type": "markdown",
   "metadata": {},
   "source": [
    "### Help with Jupyter\n",
    "\n",
    "Sometimes we all need help. Thankfully Jupyter Lab has a help menu that links to helpful documentations for:\n",
    "\n",
    "* Keyboard Shortcuts in Jupyter\n",
    "* Jupyter\n",
    "* Markdown\n",
    "* Python\n",
    "* NumPy, SciPy, Matplotlib and pandas (all of which we'll get to later)"
   ]
  },
  {
   "cell_type": "markdown",
   "metadata": {},
   "source": [
    "## Key Points\n",
    "\n",
    "* Python codes are plain text\n",
    "* Python codes can be run as `.py` files or in Jupyter Lab notebooks (`.ipynb` files)\n",
    "* Jupyter Lab notebooks have Markdown (pretty text) and Python (code) cells that can be edited and run"
   ]
  }
 ],
 "metadata": {
  "kernelspec": {
   "display_name": "Python 3",
   "language": "python",
   "name": "python3"
  },
  "language_info": {
   "codemirror_mode": {
    "name": "ipython",
    "version": 3
   },
   "file_extension": ".py",
   "mimetype": "text/x-python",
   "name": "python",
   "nbconvert_exporter": "python",
   "pygments_lexer": "ipython3",
   "version": "3.7.3"
  },
  "widgets": {
   "application/vnd.jupyter.widget-state+json": {
    "state": {},
    "version_major": 2,
    "version_minor": 0
   }
  }
 },
 "nbformat": 4,
 "nbformat_minor": 4
}
