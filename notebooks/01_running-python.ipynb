{
 "cells": [
  {
   "cell_type": "markdown",
   "metadata": {},
   "source": [
    "# The Basics of Programming with Python\n",
    "\n",
    "These eight notebooks will take you from zero to hero: teaching you the basics of python syntax and the key features of programming in Python.\n",
    "\n",
    "We will use the notebooks to work through a series of descriptive text, examples and exercises.\n",
    "\n",
    "Should you find you need further explaination or to revise some topics a list of resources can be found at https://wiki.python.org/moin/BeginnersGuide/Programmers."
   ]
  },
  {
   "cell_type": "markdown",
   "metadata": {},
   "source": [
    "# Running Python in Jupyter Notebooks\n",
    "\n",
    "## Objectives\n",
    "\n",
    "* Understand why we're learning Python and using Jupyter Notebooks\n",
    "* Know that Python code can be stored as plain files or notebooks\n",
    "* Create a Markdown cell in a notebook\n",
    "* Hello World! - run a Python cell in a notebook\n",
    "\n",
    "**Time**: 15 minutes"
   ]
  },
  {
   "cell_type": "markdown",
   "metadata": {},
   "source": [
    "## Why Python?\n",
    "\n",
    "First, why are we using Python? You may have heard of other programming languages like R, Java or C++ and each programming language has its benefits. Python has several benefits that make it an ideal starting language for most scientists:\n",
    "\n",
    "* Simple syntax that's human readable\n",
    "* Very wide used in the scientific community\n",
    "* large community support and good documentation\n",
    "* Packages provide almost infinite extensiblility - and there are many scientifically-focussed packages\n",
    "* Obvious 'pythonic' ways of doing things"
   ]
  },
  {
   "cell_type": "markdown",
   "metadata": {},
   "source": [
    "## Python Files\n",
    "\n",
    "Generally, Python files are plain text files that end with the `.py` extension. This let's the operating system know that the file is a Python program and to interpret the text as Python commands. Such files can be edited with a text editor and run from the shell."
   ]
  },
  {
   "cell_type": "markdown",
   "metadata": {},
   "source": [
    "## Jupyter Notebooks\n",
    "\n",
    "However, we will focus on using Jupyter Notebooks (`.ipynb` extension). Notebooks are a more user-friendly way or working with Python and enable you to combine text notes (like this 'cell'), your Python codes and the results of codes - all in one place.\n",
    "\n",
    "In general, Jupyter Notebooks will probably satisfy most of your programming needs in the near future."
   ]
  },
  {
   "cell_type": "markdown",
   "metadata": {},
   "source": [
    "### Markdown Cells\n",
    "\n",
    "Markdown cells, like this cell, are a form of formatted text. If you double click this cell (or press `Enter` when the cell is highlighted) it will change from pretty, formatted text to Markdown text.\n",
    "\n",
    "**Task:** Double click this cell to see:\n",
    "\n",
    "1. How numbered lists work\n",
    "2. How bulleted lists work:\n",
    "  * How **bold** text can be created\n",
    "  * How to use *italics*\n",
    "  * And how to show `code`\n",
    "  \n",
    "Throughout this course we recommend you add your own Markdown cells to make additional notes that you may find useful in the future.\n",
    "\n",
    "To add a new cell, highlight an existing cell, and hit the `A` key to create a cell above or `B` to create one below. This cell is, by default, a code cell. Hit `M` to change the cell to Markdown.\n",
    "\n",
    "**Task:** Let's create a new Markdown cell below this one where we can describe how to do this with the mouse and user interface. TODO for Chas: I think we don't need a task here, and if then something quicker. Describing GUI interface actions is horrible :P"
   ]
  },
  {
   "cell_type": "markdown",
   "metadata": {},
   "source": [
    "### Running Your First Cell\n",
    "\n",
    "Code cells, like the one below, can be filled with a series of Python commands. When the cell is run (`Ctrl+Enter` or `Shift+Enter`) the output is printed below.\n",
    "\n",
    "**Task:** Let's run our first Python script - Hello World! (This is a conventional first code for any programming language.)"
   ]
  },
  {
   "cell_type": "code",
   "execution_count": null,
   "metadata": {},
   "outputs": [],
   "source": [
    "print('Hello World!')"
   ]
  },
  {
   "cell_type": "markdown",
   "metadata": {},
   "source": [
    "### Help with Jupyter\n",
    "\n",
    "Sometimes we all need help. Thankfully Jupyter Notebooks has a help menu that links to helpful documentations for:\n",
    "\n",
    "* Keyboard Shortcuts in Jupyter\n",
    "* Jupyter\n",
    "* Markdown\n",
    "* Python\n",
    "* NumPy, SciPy, Matplotlib and pandas (all of which we'll get to later)"
   ]
  },
  {
   "cell_type": "markdown",
   "metadata": {},
   "source": [
    "## Key Points\n",
    "\n",
    "* Python codes are plain text\n",
    "* Python codes can be run as `.py` files or in Jupyter Notebooks (`.ipynb` files)\n",
    "* Jupyter Notebooks have Markdown (pretty text) and Python (code) cells that can be edited and run"
   ]
  }
 ],
 "metadata": {
  "kernelspec": {
   "display_name": "Python 3",
   "language": "python",
   "name": "python3"
  },
  "language_info": {
   "codemirror_mode": {
    "name": "ipython",
    "version": 3
   },
   "file_extension": ".py",
   "mimetype": "text/x-python",
   "name": "python",
   "nbconvert_exporter": "python",
   "pygments_lexer": "ipython3",
   "version": "3.7.1"
  }
 },
 "nbformat": 4,
 "nbformat_minor": 2
}
