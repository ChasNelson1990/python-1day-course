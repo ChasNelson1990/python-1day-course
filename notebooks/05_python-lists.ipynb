{
 "cells": [
  {
   "cell_type": "markdown",
   "metadata": {},
   "source": [
    "# Python Lists\n",
    "\n",
    "## Objectives\n",
    "\n",
    "* Understand the `list` data type in Python\n",
    "* Know how to access individual elements in lists (indexing)\n",
    "* Know how to access multiple elements in lists (slicing)\n",
    "* Know about the `.append()` and `.remove()` methods\n",
    "\n",
    "**Time**: 15 minutes"
   ]
  },
  {
   "cell_type": "markdown",
   "metadata": {},
   "source": [
    "## The `list` data type\n",
    "\n",
    "As scientists, we usually work with many samples or measurements. Creating a new variable for each measurement would make our codes complex and cumbersom. Within enough different variables we might as well do it all by hand.\n",
    "\n",
    "In Python there are several ways to storing lots of values in a single variable. We will cover three of these in the course: Python lists, NumPy arrays and pandas dataframes.\n",
    "\n",
    "The Python `list` is a data type (remember our other data types). Unlike, for example, `int`, the `list` data type is able to store many different values in one place.\n",
    "\n",
    "A `list` is 'contained' within square brackets (`[...]`) and each element within the list is separated by a comma (`,`).\n",
    "\n",
    "<div style=\"background-color:#00a8a8; border-radius: 5px; padding: 5pt\"><strong>Task:</strong> Look at the cell below to see an example of creating a list of numbers. Add a line to print the entire list and run the cell. How might we find out how many elements are in our list?</div>"
   ]
  },
  {
   "cell_type": "code",
   "execution_count": 4,
   "metadata": {},
   "outputs": [],
   "source": [
    "myVariable = [100,2.5,17.0,9.5,12.0]"
   ]
  },
  {
   "cell_type": "markdown",
   "metadata": {},
   "source": [
    "## Indexing (continued)\n",
    "\n",
    "We learnt earlier about indexing character strings. Strings and lists are similar in some ways and indexing is one of them.\n",
    "\n",
    "<div style=\"background-color:#00a8a8; border-radius: 5px; padding: 5pt\"><strong>Task:</strong> Create a new code cell below this one. Remembering that variables persist between cells, print only the first element in <code style=\"background-color:#00a8a8\">myVariable</code>. Edit your code to print the last variable in the list and run the cell again.</div>"
   ]
  },
  {
   "cell_type": "markdown",
   "metadata": {},
   "source": [
    "Once you know the index of an element, you can modify that element within the list.\n",
    "\n",
    "We've made a mistake when defining our list above - we've used floats for every element but the first.\n",
    "\n",
    "<div style=\"background-color:#00a8a8; border-radius: 5px; padding: 5pt\"><strong>Task:</strong> Create a new code cell below this one. Remembering the <code style=\"background-color:#00a8a8\">type()</code> built-in Python function, print the data type of the first and last elements.</div>"
   ]
  },
  {
   "cell_type": "markdown",
   "metadata": {},
   "source": [
    "This is important - lists can contain elements of different datatypes. In fact, lists can even contain other lists!\n",
    "\n",
    "Beware, this is not always true of other data structures.\n",
    "\n",
    "<div style=\"background-color:#00a8a8; border-radius: 5px; padding: 5pt\"><strong>Task:</strong> Correct this mistake by replacing the first element of <code style=\"background-color:#00a8a8\">myVariable</code> with the same number but as a float.</div>"
   ]
  },
  {
   "cell_type": "markdown",
   "metadata": {},
   "source": [
    "## Slicing\n",
    "\n",
    "As well as accessing individual elements of a list, we can accessing a 'slice' of elements.\n",
    "\n",
    "List slicing requires a `start` index, a `stop`, index and a `step` size (which defaults to 1):\n",
    "```python\n",
    "myVariable = [100.0,2.5,17.0,9.5,12.0]\n",
    "slicedElements = myVariable[start:stop:step]\n",
    "```\n",
    "\n",
    "**Important** Remember that Python starts indexing at `0` and that the last element is always `-1`. So accessing every other element would be:\n",
    "```python\n",
    "myVariable = [100.0,2.5,17.0,9.5,12.0]\n",
    "slicedElements = myVariable[0:-1:2]\n",
    "```\n",
    "\n",
    "<div style=\"background-color:#00a8a8; border-radius: 5px; padding: 5pt\"><strong>Task:</strong> Create a new code cell below. In it, slice <code style=\"background-color:#00a8a8\">myVariable</code> to access the third, fourth and fifth elements and store them as a new variable. Print that variable.</div>"
   ]
  },
  {
   "cell_type": "markdown",
   "metadata": {},
   "source": [
    "## `list` Methods\n",
    "\n",
    "There are many methods for the list data type. You can find a list of `list` methods with the help function or using online documentation.\n",
    "\n",
    "Remember that methods (like `str.format()`) act on an object, which is before the `.`, and (like functions) accept input parameters, which go between the parantheses.\n",
    "\n",
    "Note that many of these methods work 'in-place', i.e. they update the variable they act on (and thus return `None`).\n",
    "\n",
    "We are going to focus on two methods that are commonly used:\n",
    "\n",
    "* `list.append()`, which appends a new element to the end of a list in-place and returns `None`\n",
    "* `list.pop()`, which removes an element from a list in-place and returns that element\n",
    "\n",
    "<div style=\"background-color:#00a8a8; border-radius: 5px; padding: 5pt\"><strong>Task:</strong> Run the cell below to see examples of both of these methods.</div>"
   ]
  },
  {
   "cell_type": "code",
   "execution_count": null,
   "metadata": {},
   "outputs": [],
   "source": [
    "myVariable = [100.0,2.5,17.0,9.5,12.0]\n",
    "print('My original list:')\n",
    "print(myVariable)\n",
    "\n",
    "myVariable.append(51.6)  # add some new data\n",
    "print('My list with an extra element:')\n",
    "\n",
    "myElement = 0  # the element to 'pop'\n",
    "myValue = myVariable.pop(0)  # remove an anomolous piece of data\n",
    "print('My list with a removed element:')\n",
    "print(myVariable)\n",
    "print('I removed element {0} with value {1}'.format(myElement, myValue))"
   ]
  },
  {
   "cell_type": "markdown",
   "metadata": {},
   "source": [
    "# Errors are helpful (continued)\n",
    "\n",
    "## `IndexError`\n",
    "\n",
    "Now we're comfortable with indexing and slicing we can introduce a new error: `IndexError`.\n",
    "\n",
    "<div style=\"background-color:#00a8a8; border-radius: 5px; padding: 5pt\"><strong>Task:</strong> Run the cell below. What does this <code style=\"background-color:#00a8a8\">IndexError</code> mean? Create a new Markdown cell and describe, in words you understand, what has gone wrong here.</div>"
   ]
  },
  {
   "cell_type": "code",
   "execution_count": null,
   "metadata": {},
   "outputs": [],
   "source": [
    "print(myVariable[100])"
   ]
  },
  {
   "cell_type": "markdown",
   "metadata": {},
   "source": [
    "## Key Points\n",
    "\n",
    "* `list`s are a Python data type\n",
    "* `list`s can store many values (of different data types) as a single variable\n",
    "* `list`s can be indexed and sliced to access the elements within the list\n",
    "* Python has methods for modifying `list` variable such as `list.append()` and `list.pop()`\n",
    "* Errors are helpful! (again)\n",
    "* `IndexError` indicates an attempt to access an index beyond the end of a list"
   ]
  }
 ],
 "metadata": {
  "kernelspec": {
   "display_name": "Python 3",
   "language": "python",
   "name": "python3"
  },
  "language_info": {
   "codemirror_mode": {
    "name": "ipython",
    "version": 3
   },
   "file_extension": ".py",
   "mimetype": "text/x-python",
   "name": "python",
   "nbconvert_exporter": "python",
   "pygments_lexer": "ipython3",
   "version": "3.7.2"
  }
 },
 "nbformat": 4,
 "nbformat_minor": 2
}
