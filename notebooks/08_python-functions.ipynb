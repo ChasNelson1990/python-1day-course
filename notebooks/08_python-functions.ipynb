{
 "cells": [
  {
   "cell_type": "markdown",
   "metadata": {},
   "source": [
    "# Defining Custom Python Functions\n",
    "\n",
    "## Objectives\n",
    "\n",
    "* Understand the benefits of breaking programs into functions\n",
    "* Know the difference between defining and calling a function\n",
    "* Write a small function\n",
    "\n",
    "**Time**: 15 minutes"
   ]
  },
  {
   "cell_type": "markdown",
   "metadata": {},
   "source": [
    "## Functions\n",
    "\n",
    "Programs can easily become large and unweilding. Functions enable us to break programs down into smaller chunks, making our code easier to understand *and* easier to debug.\n",
    "\n",
    "A further benefit of functions is that they can be reused - it's the 'write once, use often' philosophy of coding.\n",
    "\n",
    "We've already called several built-in functions, which might seem a little bit like black boxes but below we will define our own functions and control their internal workings outselves.\n",
    "\n",
    "## Defining functions with `def`\n",
    "\n",
    "Defining our own functions in Python uses a `def` statement and takes the following form:\n",
    "\n",
    "```python\n",
    "def my_function():\n",
    "    print('My custom function has been called.')\n",
    "    return\n",
    "```\n",
    "\n",
    "There are five important features of `def` statements:\n",
    "\n",
    "1. Our definition starts with `def`.\n",
    "2. This is followed my a name for our custom function. Function names follow the same rules as variable names.\n",
    "3. After the variable name we need a pair of parentheses (we will come back to these below).\n",
    "4. `def` statements must end in a colon, this signals the start of the code you want to run when your custom function is called.\n",
    "5. The body of a `def` statement must be indented,. Thankfully, Jupyter Notebooks should autoindent lines following a colon for you.\n",
    "6. The final line of a function must `return` something (refer back to Returns in Built-in Functions, Help and Documentation above). If nothing is provided (as here) then the function returns `None`.\n",
    "\n",
    "<div style=\"background-color:#cdefff; border-radius: 5px; padding: 10pt\"><strong>Task:</strong> Run the following cell to define <code style=\"background-color:#cdefff\">my_function</code>, as defined above. Why does the cell not print anything?</div>"
   ]
  },
  {
   "cell_type": "code",
   "execution_count": 3,
   "metadata": {},
   "outputs": [],
   "source": [
    "def my_function():\n",
    "    print('My custom function has been called.')\n",
    "    return"
   ]
  },
  {
   "cell_type": "markdown",
   "metadata": {},
   "source": [
    "## Functions and Parameters\n",
    "\n",
    "Many of the built-in functions we've used so far have input parameters.\n",
    "\n",
    "These are defined by putting the name of a parameter between the parentheses of our `def` statement. In fact, we can include several parameters, like so:\n",
    "\n",
    "```python\n",
    "def print_date(year, month, day):\n",
    "    print('The ISO format date is {0}-{1:02}-{2:02}'.format(year,month,day))\n",
    "    return\n",
    "```\n",
    "\n",
    "### Optional Parameters\n",
    "\n",
    "We can even make optional parameters. Or, more precisely, we can give parameters default values. These default values can be used if the parameter is not used when the function is called.\n",
    "\n",
    "<div style=\"background-color:#cdefff; border-radius: 5px; padding: 10pt\"><strong>Task:</strong> Run the following cell to define and call <code style=\"background-color:#cdefff\">my_multiplier</code>. How is this definition different to the one above? Add a second call to the function but do not use the <code style=\"background-color:#cdefff\">day</code> parameter.</div>"
   ]
  },
  {
   "cell_type": "code",
   "execution_count": null,
   "metadata": {},
   "outputs": [],
   "source": [
    "def print_date(year, month, day=1):\n",
    "    # Our function defaults to the first day of the month if the day is not given\n",
    "    print('The ISO format date is {0}-{1:02}-{2:02}'.format(year,month,day))\n",
    "    return\n",
    "\n",
    "print_date(2019,4,5)"
   ]
  },
  {
   "cell_type": "markdown",
   "metadata": {},
   "source": [
    "## Functions and Returns\n",
    "\n",
    "So far we've left the return blank, which by default returns `None`.\n",
    "\n",
    "Much of the time our functions will need to return a value.\n",
    "\n",
    "<div style=\"background-color:#cdefff; border-radius: 5px; padding: 10pt\"><strong>Task:</strong> Read the cell below. It defines a function <code style=\"background-color:#cdefff\">my_classifier</code> that takes a size (a number) and returns the name of the appropriate size category (a string). Replace all the gaps (<code style=\"background-color:#cdefff\">___</code>) in the cell so that it runs over all the sizes and without errors.</div>"
   ]
  },
  {
   "cell_type": "code",
   "execution_count": null,
   "metadata": {},
   "outputs": [],
   "source": [
    "def my_classifier(size)___\n",
    "    if size>=75:\n",
    "        category='Large'\n",
    "    elif size___25:\n",
    "        ___='Medium'\n",
    "    ___:\n",
    "        category='Small'\n",
    "    return ___\n",
    "        \n",
    "mySizes = [81,61,18,69,78,66,41,65,84,18,64,16,35,65,84,89,45,13,64,18,89]\n",
    "\n",
    "for ___ in mySizes:\n",
    "    thisCategory = ___(thisSize)\n",
    "    print('This item is {0} with a size of {1}'.___(___,___))"
   ]
  },
  {
   "cell_type": "markdown",
   "metadata": {},
   "source": [
    "## Key Points\n",
    "\n",
    "* Defining a function does not call (use) that function.\n",
    "* A `def` statement defines a function with a name, parameters, some internal code and something to `return` when that function is called."
   ]
  }
 ],
 "metadata": {
  "kernelspec": {
   "display_name": "Python 3",
   "language": "python",
   "name": "python3"
  },
  "language_info": {
   "codemirror_mode": {
    "name": "ipython",
    "version": 3
   },
   "file_extension": ".py",
   "mimetype": "text/x-python",
   "name": "python",
   "nbconvert_exporter": "python",
   "pygments_lexer": "ipython3",
   "version": "3.7.2"
  }
 },
 "nbformat": 4,
 "nbformat_minor": 2
}
