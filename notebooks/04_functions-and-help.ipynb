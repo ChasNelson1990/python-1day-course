{
 "cells": [
  {
   "cell_type": "markdown",
   "metadata": {},
   "source": [
    "# Built-in Functions, Help and Documentation\n",
    "\n",
    "## Objectives\n",
    "\n",
    "* Know what a function is\n",
    "* Be able to use common built-in Python functions\n",
    "* Understand the concepts of parameters and returns\n",
    "* Use the built-in function `help()` to find documentation for built-in Python functions\n",
    "* Use the internet to find documentation for built-in Python functions\n",
    "* Understand the `TypeError`, `SyntaxError` and `NameError` Python errors\n",
    "\n",
    "**Time**: 30 minutes"
   ]
  },
  {
   "cell_type": "markdown",
   "metadata": {},
   "source": [
    "## Functions\n",
    "\n",
    "A function is a short command that allows you to access an underlying algorithm. Often a function takes some input data and returns some output data that has been transformed in some way.\n",
    "\n",
    "We've already been introduced to, and used, three built-in Python functions: `print()`, `len()` and `type()`. \n",
    "\n",
    "* `len()` takes some input data (usually a string) and returns the length of that string\n",
    "* `type()` takes some input data and returns that data's type\n",
    "* `print()` takes some input data (a string) and prints it to your notebook (we will discuss what `print()` returns below)\n",
    "\n",
    "Python has many, many built-in functions and, through packages, other functions.\n",
    "\n",
    "All Python functions have several features in common:\n",
    "* They take zero or more parameters or arguments (inputs)\n",
    "* They always return something (an output or result) \n",
    "* They sometimes *do* something (for instance, print things) \n",
    "* They (should) return useful error messages when something goes wrong\n",
    "* They (should) be well documented\n",
    "\n",
    "### Built-in Functions\n",
    "\n",
    "Python built-in functions are all functions that don't need a Python package to be imported (this will make more sense later).\n",
    "\n",
    "One common function that you might use is `round()`.\n",
    "\n",
    "This function takes a float as an input parameter and returns a new float (not an int) rounded to zero decimal places.\n",
    "\n",
    "<div style=\"background-color:#cdefff; border-radius: 5px; padding: 10pt\"><strong>Task:</strong> In the code cell below this cell, create a new variable with pi rounded to zero decimal places. Print this variable and it's type.</div>"
   ]
  },
  {
   "cell_type": "code",
   "execution_count": null,
   "metadata": {},
   "outputs": [],
   "source": [
    "piToSix = 3.141593"
   ]
  },
  {
   "cell_type": "markdown",
   "metadata": {},
   "source": [
    "### Optional Parameters\n",
    "\n",
    "Actually, `round()` can take more than one parameter. This function, and many others, has an optional parameter.\n",
    "\n",
    "An optional parameter is a parameter that has a default value.\n",
    "\n",
    "The optional parameter for `round()` is `ndigits` and the default value is `None`. Note that `None` is a special Python object that we'll cover in more detail below. When `ndigits=None`, the `round()` function rounds the number to zero decimal places.\n",
    "\n",
    "But what if `ndigits=3`?\n",
    "\n",
    "<div style=\"background-color:#cdefff; border-radius: 5px; padding: 10pt\"><strong>Task:</strong> Create a new code cell below this cell. In it create a new variable with pi rounded to three decimal places. Print this variable.</div>"
   ]
  },
  {
   "cell_type": "markdown",
   "metadata": {},
   "source": [
    "## Returns\n",
    "\n",
    "As mentioned above, all functions return something. That means, everytime a function is called (run) a new piece of information is provided.\n",
    "\n",
    "In our examples above (rounding pi), `round()` returned a float, which we assigned to a variable.\n",
    "\n",
    "<div style=\"background-color:#cdefff; border-radius: 5px; padding: 10pt\"><strong>Task:</strong> What does a call to <code style=\"background-color:#cdefff\">print()</code> return? Run the next cell to find out.</div>\n",
    "<br>\n",
    "\n",
    "**N.B.** Remember that variables persist throughout the life of a notebook. This means `myVariable` defined above can be 'seen' by the cell below."
   ]
  },
  {
   "cell_type": "code",
   "execution_count": null,
   "metadata": {
    "scrolled": true
   },
   "outputs": [],
   "source": [
    "returnFromPrint = print(myVariable)\n",
    "print(returnFromPrint)"
   ]
  },
  {
   "cell_type": "code",
   "execution_count": null,
   "metadata": {},
   "outputs": [],
   "source": [
    "print('An example string') #This function does something, but we don't store its result"
   ]
  },
  {
   "cell_type": "code",
   "execution_count": null,
   "metadata": {},
   "outputs": [],
   "source": [
    "resultOfPrint = print('An example string') #Now, we also store the result of printing.\n",
    "print(resultOfPrint) #The result is not very interesting.... Or is it?"
   ]
  },
  {
   "cell_type": "markdown",
   "metadata": {},
   "source": [
    "### `None`\n",
    "\n",
    "We've now encountered this magical `None` a couple of times.\n",
    "\n",
    "`None` is a special Python value.\n",
    "\n",
    "Sometimes we have a piece of information, returned from a function for example, that has no value, i.e. it's empty. Amongst other issues, leaving this piece of information blank would cause problems for a human trying to see what's going on in their code. So Python puts this special `None` value there."
   ]
  },
  {
   "cell_type": "markdown",
   "metadata": {},
   "source": [
    "## Function Documentation\n",
    "\n",
    "When any programmer encounters new functions, uncommon functions or functions they've just forgotten how to use they need help. This is the purpose of documentation.\n",
    "\n",
    "### `help()`\n",
    "\n",
    "There are many ways of accessing the documentation for Python functions.\n",
    "\n",
    "One way is to use Python's built-in `help()` function.\n",
    "\n",
    "Calling `help()` with a function name as a parameter will return the documentation for that function.\n",
    "\n",
    "<div style=\"background-color:#cdefff; border-radius: 5px; padding: 10pt\"><strong>Task:</strong> Run the cell below to use the <code style=\"background-color:#cdefff\">help()</code> function to load the documentation of the <code style=\"background-color:#cdefff\">round()</code> function. Do you understand everything that's printed?</div>"
   ]
  },
  {
   "cell_type": "code",
   "execution_count": null,
   "metadata": {},
   "outputs": [],
   "source": [
    "help(round)"
   ]
  },
  {
   "cell_type": "markdown",
   "metadata": {},
   "source": [
    "### Jupyter's Tricks\n",
    "\n",
    "Jupyter Notebooks has two other quick ways to access documentation for a function:\n",
    "\n",
    "* Place the cursor between the parenthesis of a function and press `Shift+Tab`\n",
    "* Type a function name followed by a question mark and run the cell\n",
    "\n",
    "<div style=\"background-color:#cdefff; border-radius: 5px; padding: 10pt\"><strong>Task:</strong> Create a new code cell below this cell. Type <code style=\"background-color:#cdefff\">round()</code>, move the cursor to between the paranthesis and press <kbd>Shift+Tab</kbd>.</div>\n",
    "\n",
    "<br>\n",
    "<div style=\"background-color:#cdefff; border-radius: 5px; padding: 10pt\"><strong>Task:</strong> Now type <code style=\"background-color:#cdefff\">round?</code> and run the cell.</div>"
   ]
  },
  {
   "cell_type": "markdown",
   "metadata": {},
   "source": [
    "## Online Documentation\n",
    "\n",
    "Finally, most Python package functions and all built-in functions have online documentation.\n",
    "<br>\n",
    "<div style=\"background-color:#cdefff; border-radius: 5px; padding: 10pt\"><strong>Task:</strong> Open a new browser tab and the search engine of your choice. What search terms should you use to find the Python documentation for the <code style=\"background-color:#cdefff\">round()</code> function?</div>"
   ]
  },
  {
   "cell_type": "markdown",
   "metadata": {},
   "source": [
    "## Errors Are Helpful\n",
    "\n",
    "One of the most off-putting things for new programmers are errors.\n",
    "\n",
    "But, in reality, a good error message can be a really helpful tool. An error message can help you identify a mistake you've made, or a mistake that you might not notice until it's too late.\n",
    "\n",
    "One things for sure, an error message is more helpful than when the code runs (without errors) but returns an unexpected value.\n",
    "\n",
    "### `TypeError`\n",
    "\n",
    "<div style=\"background-color:#cdefff; border-radius: 5px; padding: 10pt\"><strong>Task:</strong> Run the cell below. What does this <code style=\"background-color:#cdefff\">TypeError</code> mean? Create a new Markdown cell and describe, in words you understand, what has gone wrong here. What useful information does the traceback tell you? How could we have prevented ourselves making this mistake in the first place?</div>"
   ]
  },
  {
   "cell_type": "code",
   "execution_count": null,
   "metadata": {},
   "outputs": [],
   "source": [
    "myVariable = 'This is an example string.'\n",
    "\n",
    "round(myVariable)"
   ]
  },
  {
   "cell_type": "markdown",
   "metadata": {},
   "source": [
    "### `SyntaxError`\n",
    "\n",
    "<div style=\"background-color:#cdefff; border-radius: 5px; padding: 10pt\"><strong>Task:</strong> Run the cell below. What does this <code style=\"background-color:#cdefff\">SyntaxError</code> mean? Create a new Markdown cell and describe, in words you understand, what has gone wrong here. What does the arrow in the traceback point to? Fix this error and run the cell again.</div>"
   ]
  },
  {
   "cell_type": "code",
   "execution_count": null,
   "metadata": {},
   "outputs": [],
   "source": [
    "myVariable = = 'This is an example string.\n",
    "\n",
    "print(myVariable"
   ]
  },
  {
   "cell_type": "markdown",
   "metadata": {},
   "source": [
    "### `NameError`\n",
    "\n",
    "<div style=\"background-color:#cdefff; border-radius: 5px; padding: 10pt\"><strong>Task:</strong> Run the cell below. What does this <code style=\"background-color:#cdefff\">NameError</code> mean? Create a new Markdown cell and describe, in words you understand, what has gone wrong here.</div>"
   ]
  },
  {
   "cell_type": "code",
   "execution_count": null,
   "metadata": {},
   "outputs": [],
   "source": [
    "myVariable = 'This is an example string.'\n",
    "\n",
    "print(myString)"
   ]
  },
  {
   "cell_type": "markdown",
   "metadata": {},
   "source": [
    "## Key Points\n",
    "\n",
    "* Functions take in zero or more parameters (inputs)\n",
    "* Some input are optional and Python can use default values for these\n",
    "* Functions always returns something (outputs)\n",
    "* Sometimes, when there's no value to return, Python returns `None`\n",
    "* Built-in functions include `print()`, `len()`, `type()`, `round()` and `help()`\n",
    "* You can find documentation about functions in several ways, including within Jupyter Notebooks and online\n",
    "* Errors are helpful!\n",
    "* `TypeError` indicates a function parameter has an incompatible data type\n",
    "* `SyntaxError` indicates a writing error in your code - usually an open string or missing parenthesis\n",
    "* `NameError` indicates that the function or variable you've called doesn't exist"
   ]
  }
 ],
 "metadata": {
  "kernelspec": {
   "display_name": "Python 3",
   "language": "python",
   "name": "python3"
  },
  "language_info": {
   "codemirror_mode": {
    "name": "ipython",
    "version": 3
   },
   "file_extension": ".py",
   "mimetype": "text/x-python",
   "name": "python",
   "nbconvert_exporter": "python",
   "pygments_lexer": "ipython3",
   "version": "3.7.2"
  }
 },
 "nbformat": 4,
 "nbformat_minor": 2
}
